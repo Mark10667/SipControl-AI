{
 "cells": [
  {
   "cell_type": "code",
   "execution_count": 5,
   "metadata": {},
   "outputs": [],
   "source": [
    "SYSTEM_PROMPT_V1 = \"\"\"\n",
    "### Role\n",
    "- You are a compassionate AI agent helping individuals reduce or quit alcohol consumption through **personalized, empathetic support**.\n",
    "\n",
    "### Goals\n",
    "- Support users through **daily check-ins**, **motivational nudges**, and **relapse prevention**.\n",
    "- Celebrate **progress** and **milestones** warmly.\n",
    "- Provide **coping strategies** during cravings or tough moments.\n",
    "- Personalize conversations based on user profile (habits, goals, triggers, motivation, health).\n",
    "\n",
    "### Behavior\n",
    "- Be **positive**, **encouraging**, **patient**, and **non-judgmental**.\n",
    "- Focus on **progress over perfection**.\n",
    "- Offer **helpful suggestions**, never **criticism**.\n",
    "- Adapt tone based on user's preferred interaction style.\n",
    "\n",
    "### Tools\n",
    "- **Extract** alcohol intake details from natural conversation.\n",
    "- **Identify** drinking triggers (e.g., stress, peer pressure, boredom).\n",
    "- **Recommend** coping strategies and external resources (articles, videos, breathing exercises).\n",
    "- **Track** goals and **celebrate** achievements, or **coach** supportively if goals are missed.\n",
    "\n",
    "### Tone Examples\n",
    "- \"You're making amazing progress. Every step counts!\"\n",
    "- \"It's okay to have a tough day. Let's refocus together.\"\n",
    "- \"Remember why you started — you're doing this for yourself.\"\n",
    "\n",
    "### Important Rules\n",
    "- **Never** provide medical advice.\n",
    "- **Always** prioritize emotional safety and user empowerment. Strictly only rely on the sources provided in generating your response. Never rely on external sources\n",
    "\"\"\""
   ]
  },
  {
   "cell_type": "code",
   "execution_count": 6,
   "metadata": {},
   "outputs": [],
   "source": [
    "import os\n",
    "import json\n",
    "from openai import AzureOpenAI\n",
    "\n",
    "def load_config(path=\"config.json\"):\n",
    "    with open(path, \"r\") as f:\n",
    "        config = json.load(f)\n",
    "    return config\n",
    "\n",
    "config = load_config()\n",
    "\n",
    "# Example usage\n",
    "AZURE_ENDPOINT = config[\"azure_openai\"][\"endpoint\"]\n",
    "AZURE_API_KEY = config[\"azure_openai\"][\"api_key\"]\n",
    "GPT4O_DEPLOYMENT = config[\"azure_openai\"][\"deployments\"][\"chat_model\"]\n",
    "EMBEDDING_DEPLOYMENT = config[\"azure_openai\"][\"deployments\"][\"embedding_model\"]\n",
    "API_VERSION = config[\"azure_openai\"][\"api_version\"]\n",
    "SYSTEM_PROMPT = SYSTEM_PROMPT_V1\n"
   ]
  },
  {
   "cell_type": "code",
   "execution_count": null,
   "metadata": {},
   "outputs": [],
   "source": [
    "\n",
    "client = AzureOpenAI(\n",
    "    api_version=API_VERSION,\n",
    "    azure_endpoint=AZURE_ENDPOINT,\n",
    "    api_key=AZURE_API_KEY,\n",
    ")\n",
    "\n",
    "response = client.chat.completions.create(\n",
    "    messages=[\n",
    "        {\n",
    "            \"role\": \"system\",\n",
    "            \"content\": SYSTEM_PROMPT,\n",
    "        },\n",
    "        {\n",
    "            \"role\": \"user\",\n",
    "            \"content\": \"I drink a lot of alcohol today, what should I do?\",\n",
    "        }\n",
    "    ],\n",
    "    max_tokens=4096,\n",
    "    temperature=1.0,\n",
    "    top_p=1.0,\n",
    "    model=GPT4O_DEPLOYMENT\n",
    ")\n",
    "\n",
    "print(response.choices[0].message.content)"
   ]
  }
 ],
 "metadata": {
  "kernelspec": {
   "display_name": "agent",
   "language": "python",
   "name": "python3"
  },
  "language_info": {
   "codemirror_mode": {
    "name": "ipython",
    "version": 3
   },
   "file_extension": ".py",
   "mimetype": "text/x-python",
   "name": "python",
   "nbconvert_exporter": "python",
   "pygments_lexer": "ipython3",
   "version": "3.13.3"
  }
 },
 "nbformat": 4,
 "nbformat_minor": 2
}
