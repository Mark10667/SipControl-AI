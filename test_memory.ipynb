{
 "cells": [
  {
   "cell_type": "markdown",
   "metadata": {},
   "source": [
    "1. Unit Test the Memory Functions\n",
    "You can quickly test the helper functions directly in a Python shell or a test script:"
   ]
  },
  {
   "cell_type": "code",
   "execution_count": 5,
   "metadata": {},
   "outputs": [
    {
     "name": "stdout",
     "output_type": "stream",
     "text": [
      "User test_user already exists.\n",
      "Database: drink-agent-app\n",
      "Collections: ['daily_logs', 'agent_memory', 'users']\n",
      "\n",
      "Collection: daily_logs\n",
      "Sample document: {'_id': ObjectId('680d5f5b17c8bf95033b7d03'), 'user_id': 'user_1234', 'date': '2025-04-26', 'alcohol_consumed': '1 beer', 'meets_goal': True, 'agent_feedback': 'Nice job staying under your goal!', 'drink_reason': 'social event', 'coping_suggestion': 'Bring your own non-alcoholic drinks', 'mood': 'satisfied', 'streak_count': 6}\n",
      "\n",
      "Collection: agent_memory\n",
      "Sample document: {'_id': ObjectId('68127c658a04e26e5f7a6609'), 'user_id': 'test_user', 'memory': {'trigger_history': ['stress']}, 'timestamp': datetime.datetime(2025, 4, 30, 15, 39, 17, 482000)}\n",
      "\n",
      "Collection: users\n",
      "Sample document: {'_id': ObjectId('680d9fcac601f78539a2681e'), 'user_id': '44d47f52-3820-4c26-a08c-e49572f4846b', 'name': 'tyler', 'email': 'tyler@gmail.com', 'age_range': None, 'gender': None, 'height_cm': None, 'weight_kg': None, 'drinking_habits': None, 'motivation': None, 'health_conditions': None, 'typical_triggers': None, 'goals': 'lower blood suger level', 'preferred_interaction_time': None, 'created_at': datetime.datetime(2025, 4, 26, 23, 8, 58, 61000)}\n"
     ]
    }
   ],
   "source": [
    "from langgraph_agents.workflow import insert_test_user, print_db_structure\n",
    "\n",
    "# Insert a test user\n",
    "test_user_id = \"test_user\"\n",
    "insert_test_user(test_user_id, name=\"Alice Example\", email=\"alice@example.com\")\n",
    "\n",
    "# Print the current database structure and a sample document from each collection\n",
    "print_db_structure()"
   ]
  },
  {
   "cell_type": "code",
   "execution_count": 1,
   "metadata": {},
   "outputs": [
    {
     "name": "stderr",
     "output_type": "stream",
     "text": [
      "/Users/tylerlwq/Downloads/SipControl-AI/langgraph_agents/workflow.py:16: UserWarning: You appear to be connected to a CosmosDB cluster. For more information regarding feature compatibility and support please visit https://www.mongodb.com/supportability/cosmosdb\n",
      "  mongo_client = MongoClient(MONGODB_URI)\n"
     ]
    },
    {
     "name": "stdout",
     "output_type": "stream",
     "text": [
      "First run result: {'messages': [HumanMessage(content='I felt stressed and had a drink yesterday.', additional_kwargs={}, response_metadata={}), AIMessage(content=\"I'm sorry to hear you're feeling stressed. It's okay to have moments like this, and it's great that you're reflecting on it and looking for ways to manage stress differently. Here are some supportive, practical strategies that can help you address stress without turning to alcohol:\\n\\n### 1. **Deep Breathing Exercises**\\n   Deep breathing is a simple but powerful way to calm your nervous system and reduce stress in the moment.\\n   - **How to do it:** \\n     - Sit or lie down in a comfortable position.\\n     - Inhale deeply through your nose for a count of 4, allowing your belly to expand.\\n     - Hold your breath for a count of 4.\\n     - Exhale slowly through your mouth for a count of 6.\\n     - Repeat this for 5–10 minutes, focusing on the rhythm of your breath.\\n\\n### 2. **Progressive Muscle Relaxation (PMR)**\\n   PMR helps reduce physical tension, which often accompanies stress.\\n   - **How to do it:** \\n     - Start at your feet and work your way up to your head, tensing each muscle group (e.g., feet, calves, thighs) for 5 seconds as you inhale, then releasing the tension completely as you exhale.\\n     - Notice the difference between tension and relaxation in each muscle group.\\n\\n### 3. **Guided Imagery**\\n   Visualization can transport your mind to a peaceful place, helping you relax.\\n   - **How to do it:** \\n     - Close your eyes and imagine a calming scene, such as a beach, forest, or mountain.\\n     - Picture the details—what you see, hear, smell, and feel. For example, if you're at the beach, imagine the sound of waves, the warmth of the sun, and the scent of the ocean.\\n     - Spend 5–10 minutes in this mental escape.\\n\\n### 4. **Journaling**\\n   Writing down your thoughts and feelings can be a therapeutic way to process stress.\\n   - **How to do it:** \\n     - Take a few minutes to write freely about what's on your mind without judgment.\\n     - Alternatively, try gratitude journaling—list 3 things you're grateful for to shift your focus to positive aspects of your life.\\n\\n### 5. **Physical Activity**\\n   Exercise is a natural stress reliever and mood booster.\\n   - Go for a brisk walk, stretch, do yoga, or dance to your favorite music.\\n   - Even a 10-minute walk outside can help clear your mind and release endorphins.\\n\\n### 6. **Connect with Someone**\\n   Talking to a trusted friend, family member, or support group can help ease stress.\\n   - Share how you're feeling or simply enjoy a conversation to distract and uplift your mood.\\n\\n### 7. **Practice Self-Compassion**\\n   It's important to be gentle with yourself. Stress and setbacks happen to everyone.\\n   - Remind yourself that you're taking steps to address your stress in healthy ways, and celebrate even small victories.\\n\\n### 8. **Create a Comforting Ritual**\\n   Replace drinking with a soothing alternative when you're stressed.\\n   - Make a cup of herbal tea, take a warm bath, or listen to calming music.\\n   - Experiment with what feels comforting to you.\\n\\n### 9. **Set Small, Achievable Goals**\\n   If stress feels overwhelming, break it down. Focus on one small thing you can do to feel more in control (e.g., tidying up a small space, completing one item on your to-do list).\\n\\n### 10. **Consider Professional Support**\\n   If stress feels unmanageable or you’d like to explore deeper coping strategies, reaching out to a therapist or counselor can be incredibly helpful.\\n\\nRemember, you're not alone, and every step you take toward healthier stress management is a step toward feeling better. Which of these strategies feels like a good place to start for you?\", additional_kwargs={'refusal': None}, response_metadata={'token_usage': {'completion_tokens': 795, 'prompt_tokens': 79, 'total_tokens': 874, 'completion_tokens_details': {'accepted_prediction_tokens': 0, 'audio_tokens': 0, 'reasoning_tokens': 0, 'rejected_prediction_tokens': 0}, 'prompt_tokens_details': {'audio_tokens': 0, 'cached_tokens': 0}}, 'model_name': 'gpt-4o-2024-11-20', 'system_fingerprint': 'fp_ee1d74bde0', 'id': 'chatcmpl-BS7rQFmeAbJbV2zSHaiuJUlpS06ZK', 'prompt_filter_results': [{'prompt_index': 0, 'content_filter_results': {'hate': {'filtered': False, 'severity': 'safe'}, 'jailbreak': {'filtered': False, 'detected': False}, 'self_harm': {'filtered': False, 'severity': 'safe'}, 'sexual': {'filtered': False, 'severity': 'safe'}, 'violence': {'filtered': False, 'severity': 'safe'}}}], 'finish_reason': 'stop', 'logprobs': None, 'content_filter_results': {'hate': {'filtered': False, 'severity': 'safe'}, 'protected_material_code': {'filtered': False, 'detected': False}, 'protected_material_text': {'filtered': False, 'detected': False}, 'self_harm': {'filtered': False, 'severity': 'safe'}, 'sexual': {'filtered': False, 'severity': 'safe'}, 'violence': {'filtered': False, 'severity': 'safe'}}}, id='run-df88570f-ce39-4021-a71b-3f56fc41dc9e-0', usage_metadata={'input_tokens': 79, 'output_tokens': 795, 'total_tokens': 874, 'input_token_details': {'audio': 0, 'cache_read': 0}, 'output_token_details': {'audio': 0, 'reasoning': 0}})], 'next_step': 'end', 'drinking_status': True, 'trigger_type': <TriggerType.STRESS: 'stress'>, 'memory': {'trigger_history': ['stress', <TriggerType.STRESS: 'stress'>]}}\n",
      "Memory after first run: {'trigger_history': ['stress', 'stress']}\n",
      "Second run result: {'messages': [HumanMessage(content='I was bored today.', additional_kwargs={}, response_metadata={})], 'next_step': 'if not drink', 'drinking_status': False, 'trigger_type': None, 'memory': {'trigger_history': ['stress', 'stress']}}\n",
      "Memory after second run: {'trigger_history': ['stress', 'stress']}\n"
     ]
    }
   ],
   "source": [
    "from langchain_core.messages import HumanMessage\n",
    "from langgraph_agents.workflow import run_workflow, get_latest_agent_memory\n",
    "\n",
    "user_id = \"test_user\"\n",
    "messages = [HumanMessage(content=\"I felt stressed and had a drink yesterday.\")]\n",
    "\n",
    "# First run: should use empty or previous memory\n",
    "result1 = run_workflow(messages, user_id)\n",
    "print(\"First run result:\", result1)\n",
    "print(\"Memory after first run:\", get_latest_agent_memory(user_id))\n",
    "\n",
    "# Second run: should use updated memory from previous run\n",
    "messages2 = [HumanMessage(content=\"I was bored today.\")]\n",
    "result2 = run_workflow(messages2, user_id)\n",
    "print(\"Second run result:\", result2)\n",
    "print(\"Memory after second run:\", get_latest_agent_memory(user_id))"
   ]
  },
  {
   "cell_type": "markdown",
   "metadata": {},
   "source": [
    "2. Test the Workflow End-to-End\n",
    "You can run the run_workflow function with a test message and user ID, then check if memory is persisted and updated:"
   ]
  },
  {
   "cell_type": "code",
   "execution_count": 2,
   "metadata": {},
   "outputs": [
    {
     "name": "stdout",
     "output_type": "stream",
     "text": [
      "First run result: {'messages': [HumanMessage(content='I felt stressed and had a drink yesterday.', additional_kwargs={}, response_metadata={}), AIMessage(content='First, I want you to know that it’s okay to feel stressed, and it’s great that you’re being honest about how you’re coping. Let’s focus on building some healthy, effective strategies to manage stress so you can feel more in control without turning to alcohol. Here are some practical techniques you can try:\\n\\n---\\n\\n### 1. **Deep Breathing Exercise (Box Breathing)**  \\nThis is a simple yet powerful way to calm your mind and body in the moment.  \\n- **Inhale** through your nose for 4 seconds.  \\n- **Hold** your breath for 4 seconds.  \\n- **Exhale** slowly through your mouth for 4 seconds.  \\n- **Hold** your breath again for 4 seconds.  \\nRepeat for 4-5 cycles. This helps regulate your nervous system and reduce stress quickly.\\n\\n---\\n\\n### 2. **Progressive Muscle Relaxation (PMR)**  \\nWhen you’re feeling stressed, your muscles may become tense. This exercise helps release that tension.  \\n- Start with your feet. **Tense** your muscles tightly for 5 seconds, then **release**.  \\n- Move up to your calves, thighs, stomach, chest, arms, and face, tensing and releasing each area.  \\nThis practice signals to your body that it’s safe to relax.\\n\\n---\\n\\n### 3. **Guided Imagery**  \\nUse your imagination to \"escape\" to a peaceful place and reset your mood.  \\n- Close your eyes and picture a calming scene, like a beach, forest, or mountain.  \\n- Imagine the sights, sounds, and smells—like waves crashing, leaves rustling, or the scent of fresh air.  \\n- Spend 5-10 minutes in this mental “vacation” to help soothe your mind.\\n\\n---\\n\\n### 4. **Journaling Your Feelings**  \\nWriting down your thoughts can help you process stress and release bottled-up emotions.  \\n- Try a simple prompt: “What is making me feel stressed right now?” or “What can I do today to take care of myself?”  \\n- You don’t need to solve everything; just getting your feelings on paper can bring relief.\\n\\n---\\n\\n### 5. **Move Your Body**  \\nPhysical activity can help release stress and improve your mood by boosting endorphins.  \\n- Take a brisk walk outside.  \\n- Do some stretches or yoga.  \\n- Dance to your favorite song in your living room.  \\nEven 10 minutes of movement can make a big difference.\\n\\n---\\n\\n### 6. **Connect with Someone You Trust**  \\nSometimes, talking to a friend, family member, or therapist can provide comfort and perspective. You don’t have to face stress alone.\\n\\n---\\n\\n### 7. **Create a Comforting Routine for Stressful Moments**  \\nBuild a \"stress-relief toolkit\" filled with activities you enjoy. Examples:  \\n- Listening to calming music or nature sounds.  \\n- Watching a funny or uplifting show.  \\n- Taking a warm bath or shower.  \\n- Doing a creative activity like drawing, coloring, or knitting.  \\n\\n---\\n\\n### 8. **Practice Self-Compassion**  \\nIt’s important to be kind to yourself. Remind yourself that everyone feels stressed sometimes, and you’re doing your best. Replace self-criticism with supportive thoughts, like:  \\n- “I’m proud of myself for looking for healthier ways to cope.”  \\n- “I am strong, and I can get through this.”  \\n\\n---\\n\\nIf you find yourself craving alcohol during a stressful moment, pause and try one of these techniques instead. It’s okay if it takes time to build new habits—progress, not perfection, is what matters. Let me know which of these feels doable for you, and we can work on a plan together!', additional_kwargs={'refusal': None}, response_metadata={'token_usage': {'completion_tokens': 771, 'prompt_tokens': 79, 'total_tokens': 850, 'completion_tokens_details': {'accepted_prediction_tokens': 0, 'audio_tokens': 0, 'reasoning_tokens': 0, 'rejected_prediction_tokens': 0}, 'prompt_tokens_details': {'audio_tokens': 0, 'cached_tokens': 0}}, 'model_name': 'gpt-4o-2024-11-20', 'system_fingerprint': 'fp_ee1d74bde0', 'id': 'chatcmpl-BS8SSZYNSwn57fIymugloJatACqx6', 'prompt_filter_results': [{'prompt_index': 0, 'content_filter_results': {'hate': {'filtered': False, 'severity': 'safe'}, 'jailbreak': {'filtered': False, 'detected': False}, 'self_harm': {'filtered': False, 'severity': 'safe'}, 'sexual': {'filtered': False, 'severity': 'safe'}, 'violence': {'filtered': False, 'severity': 'safe'}}}], 'finish_reason': 'stop', 'logprobs': None, 'content_filter_results': {'hate': {'filtered': False, 'severity': 'safe'}, 'protected_material_code': {'filtered': False, 'detected': False}, 'protected_material_text': {'filtered': False, 'detected': False}, 'self_harm': {'filtered': False, 'severity': 'safe'}, 'sexual': {'filtered': False, 'severity': 'safe'}, 'violence': {'filtered': False, 'severity': 'safe'}}}, id='run-b808d44f-cba5-4b41-aba8-d502d42cf799-0', usage_metadata={'input_tokens': 79, 'output_tokens': 771, 'total_tokens': 850, 'input_token_details': {'audio': 0, 'cache_read': 0}, 'output_token_details': {'audio': 0, 'reasoning': 0}})], 'next_step': 'end', 'drinking_status': True, 'trigger_type': <TriggerType.STRESS: 'stress'>, 'memory': {'trigger_history': ['stress', 'stress', <TriggerType.STRESS: 'stress'>], 'common_triggers': ['stress']}}\n",
      "Memory after first run: {'trigger_history': ['stress', 'stress', 'stress'], 'common_triggers': ['stress']}\n",
      "Second run result: {'messages': [HumanMessage(content='I was bored today.', additional_kwargs={}, response_metadata={})], 'next_step': 'if not drink', 'drinking_status': False, 'trigger_type': None, 'memory': {'trigger_history': ['stress', 'stress', 'stress'], 'common_triggers': ['stress']}}\n",
      "Memory after second run: {'trigger_history': ['stress', 'stress', 'stress'], 'common_triggers': ['stress']}\n"
     ]
    }
   ],
   "source": [
    "from langchain_core.messages import HumanMessage\n",
    "from langgraph_agents.workflow import run_workflow, get_latest_agent_memory\n",
    "\n",
    "user_id = \"test_user\"\n",
    "messages = [HumanMessage(content=\"I felt stressed and had a drink yesterday.\")]\n",
    "\n",
    "# First run: should use empty or previous memory\n",
    "result1 = run_workflow(messages, user_id)\n",
    "print(\"First run result:\", result1)\n",
    "print(\"Memory after first run:\", get_latest_agent_memory(user_id))\n",
    "\n",
    "# Second run: should use updated memory from previous run\n",
    "messages2 = [HumanMessage(content=\"I was bored today.\")]\n",
    "result2 = run_workflow(messages2, user_id)\n",
    "print(\"Second run result:\", result2)\n",
    "print(\"Memory after second run:\", get_latest_agent_memory(user_id))"
   ]
  }
 ],
 "metadata": {
  "kernelspec": {
   "display_name": "agent_py312",
   "language": "python",
   "name": "python3"
  },
  "language_info": {
   "codemirror_mode": {
    "name": "ipython",
    "version": 3
   },
   "file_extension": ".py",
   "mimetype": "text/x-python",
   "name": "python",
   "nbconvert_exporter": "python",
   "pygments_lexer": "ipython3",
   "version": "3.12.10"
  }
 },
 "nbformat": 4,
 "nbformat_minor": 2
}
